{
  "nbformat": 4,
  "nbformat_minor": 0,
  "metadata": {
    "colab": {
      "name": "Lab 1 - First Google Notebook.ipynb",
      "provenance": [],
      "authorship_tag": "ABX9TyNj6UKvONgtzGdN6cvtsss8",
      "include_colab_link": true
    },
    "kernelspec": {
      "name": "python3",
      "display_name": "Python 3"
    }
  },
  "cells": [
    {
      "cell_type": "markdown",
      "metadata": {
        "id": "view-in-github",
        "colab_type": "text"
      },
      "source": [
        "<a href=\"https://colab.research.google.com/github/zje5024/SRA-268-Lab-1/blob/master/Lab_1_First_Google_Notebook.ipynb\" target=\"_parent\"><img src=\"https://colab.research.google.com/assets/colab-badge.svg\" alt=\"Open In Colab\"/></a>"
      ]
    },
    {
      "cell_type": "markdown",
      "metadata": {
        "id": "wGDvOBp8cSZ1",
        "colab_type": "text"
      },
      "source": [
        "# 1. Name of Project Idea: Snow and Minimum Temperature Correlation"
      ]
    },
    {
      "cell_type": "markdown",
      "metadata": {
        "id": "BFspdVuScV4x",
        "colab_type": "text"
      },
      "source": [
        "# 2. Brief Outline"
      ]
    },
    {
      "cell_type": "markdown",
      "metadata": {
        "id": "iaS18sYhdRBA",
        "colab_type": "text"
      },
      "source": [
        "This project will use the NOAA data to explore whether or not there is a correlation between TMIN (minimum temperature on that day (F)) and SNOW (snow in inches). The proposed correlation assumes that the lower the temperature on that given day, the more snow in inches there also was. The month of January (2019) will be used to explore this idea.\n"
      ]
    },
    {
      "cell_type": "markdown",
      "metadata": {
        "id": "5HvrafmaccPI",
        "colab_type": "text"
      },
      "source": [
        "#Sketch"
      ]
    },
    {
      "cell_type": "markdown",
      "metadata": {
        "id": "hLrNT1AC4HAv",
        "colab_type": "text"
      },
      "source": [
        "![Graph for Lab 1](https://raw.githubusercontent.com/zje5024/SRA-268-Lab-1/master/images/sra268graphlab1.png) "
      ]
    },
    {
      "cell_type": "markdown",
      "metadata": {
        "id": "eRcKVoUvcfjJ",
        "colab_type": "text"
      },
      "source": [
        "#Conclusions"
      ]
    },
    {
      "cell_type": "markdown",
      "metadata": {
        "id": "ZbtqB7e_cjEg",
        "colab_type": "text"
      },
      "source": [
        "By plotting the data points between T-MIN (minimum temperature on that dat (F)) and SNOW (snow in inches), it is evident that there is no strong correlation between the two variables. It was initially thought that the lower the temperature on a given day, the more snow in inches there also was. The data points for the month of January 2019 were used and are visually represented on the graph above. "
      ]
    }
  ]
}